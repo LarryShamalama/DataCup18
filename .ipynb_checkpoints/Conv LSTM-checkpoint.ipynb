{
 "cells": [
  {
   "cell_type": "code",
   "execution_count": 3,
   "metadata": {},
   "outputs": [],
   "source": [
    "import numpy as np\n",
    "import pandas as pd\n",
    "import tensorflow as tf\n",
    "\n",
    "import os\n",
    "\n",
    "from helpers import *\n",
    "from tf_helpers import *"
   ]
  },
  {
   "cell_type": "code",
   "execution_count": 4,
   "metadata": {},
   "outputs": [
    {
     "name": "stdout",
     "output_type": "stream",
     "text": [
      "Proportion of clients who default: 0.19336134453781512\n"
     ]
    }
   ],
   "source": [
    "performance  = pd.read_csv('train/performance_train.csv')\n",
    "facturation  = pd.read_csv('train/facturation_train.csv')\n",
    "payments     = pd.read_csv('train/paiements_train.csv')\n",
    "transactions = pd.read_csv('train/transactions_train.csv')\n",
    "\n",
    "customer_ids = performance['ID_CPTE']\n",
    "\n",
    "print('Proportion of clients who default:', sum(performance['Default'])/len(performance))"
   ]
  },
  {
   "cell_type": "code",
   "execution_count": 6,
   "metadata": {},
   "outputs": [],
   "source": [
    "additional_transactions = pd.read_csv('train/additional_transactions_train.csv')"
   ]
  },
  {
   "cell_type": "code",
   "execution_count": 9,
   "metadata": {},
   "outputs": [],
   "source": [
    "add_id = set(additional_transactions['ID_CPTE'])"
   ]
  },
  {
   "cell_type": "code",
   "execution_count": null,
   "metadata": {},
   "outputs": [],
   "source": []
  },
  {
   "cell_type": "code",
   "execution_count": null,
   "metadata": {},
   "outputs": [],
   "source": []
  }
 ],
 "metadata": {
  "kernelspec": {
   "display_name": "ml",
   "language": "python",
   "name": "ml"
  },
  "language_info": {
   "codemirror_mode": {
    "name": "ipython",
    "version": 3
   },
   "file_extension": ".py",
   "mimetype": "text/x-python",
   "name": "python",
   "nbconvert_exporter": "python",
   "pygments_lexer": "ipython3",
   "version": "3.6.4"
  }
 },
 "nbformat": 4,
 "nbformat_minor": 2
}
