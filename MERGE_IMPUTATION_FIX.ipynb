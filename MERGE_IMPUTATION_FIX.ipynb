{
 "cells": [
  {
   "cell_type": "code",
   "execution_count": 413,
   "metadata": {
    "collapsed": false
   },
   "outputs": [],
   "source": [
    "import numpy as np\n",
    "import math\n",
    "from sklearn.metrics import mean_squared_error\n",
    "from sklearn.ensemble import GradientBoostingClassifier\n",
    "from sklearn.model_selection import cross_val_score\n",
    "from sklearn.datasets import make_blobs\n",
    "from sklearn.ensemble import RandomForestClassifier\n",
    "from sklearn.ensemble import ExtraTreesClassifier\n",
    "from sklearn.tree import DecisionTreeClassifier\n",
    "from sklearn.preprocessing import Imputer\n",
    "from sklearn.model_selection import train_test_split\n",
    "from sklearn import metrics\n",
    "import pandas as pd\n",
    "import matplotlib.pyplot as plt\n",
    "from skopt import gp_minimize\n",
    "from skopt.utils import use_named_args\n",
    "from skopt.space import Real, Integer\n",
    "import datetime\n",
    "%matplotlib inline"
   ]
  },
  {
   "cell_type": "code",
   "execution_count": 555,
   "metadata": {
    "collapsed": true
   },
   "outputs": [],
   "source": [
    "performance  = pd.read_csv('train/performance_train.csv', index_col= False)\n",
    "facturation  = pd.read_csv('train/facturation_train.csv', index_col= False)\n",
    "payments    = pd.read_csv('train/paiements_train.csv', index_col= False)\n",
    "transactions = pd.read_csv('train/transactions_train.csv', index_col= False)\n",
    "#load test dataset\n",
    "performance_test  = pd.read_csv('test/performance_test.csv', index_col= False)\n",
    "facturation_test  = pd.read_csv('test/facturation_test.csv', index_col= False)\n",
    "paiements_test    = pd.read_csv('test/paiements_test.csv', index_col= False)\n",
    "transactions_test = pd.read_csv('test/transactions_test.csv', index_col= False)\n",
    "\n"
   ]
  },
  {
   "cell_type": "code",
   "execution_count": 366,
   "metadata": {
    "collapsed": true
   },
   "outputs": [],
   "source": [
    "default = performance[performance['Default'] == 1]['ID_CPTE']\n",
    "gen_def = (client for client in default)\n"
   ]
  },
  {
   "cell_type": "code",
   "execution_count": 367,
   "metadata": {
    "collapsed": false
   },
   "outputs": [
    {
     "data": {
      "text/html": [
       "<div>\n",
       "<style scoped>\n",
       "    .dataframe tbody tr th:only-of-type {\n",
       "        vertical-align: middle;\n",
       "    }\n",
       "\n",
       "    .dataframe tbody tr th {\n",
       "        vertical-align: top;\n",
       "    }\n",
       "\n",
       "    .dataframe thead th {\n",
       "        text-align: right;\n",
       "    }\n",
       "</style>\n",
       "<table border=\"1\" class=\"dataframe\">\n",
       "  <thead>\n",
       "    <tr style=\"text-align: right;\">\n",
       "      <th></th>\n",
       "      <th>ID_CPTE</th>\n",
       "      <th>PERIODID_MY</th>\n",
       "      <th>Default</th>\n",
       "    </tr>\n",
       "  </thead>\n",
       "  <tbody>\n",
       "    <tr>\n",
       "      <th>18</th>\n",
       "      <td>75780289</td>\n",
       "      <td>2012-12-01</td>\n",
       "      <td>1</td>\n",
       "    </tr>\n",
       "  </tbody>\n",
       "</table>\n",
       "</div>"
      ],
      "text/plain": [
       "     ID_CPTE PERIODID_MY  Default\n",
       "18  75780289  2012-12-01        1"
      ]
     },
     "execution_count": 367,
     "metadata": {},
     "output_type": "execute_result"
    }
   ],
   "source": [
    "next_default_client = next(gen_def)\n",
    "\n",
    "performance[performance['ID_CPTE'] == next_default_client]\n"
   ]
  },
  {
   "cell_type": "code",
   "execution_count": 368,
   "metadata": {
    "collapsed": false
   },
   "outputs": [
    {
     "data": {
      "text/html": [
       "<div>\n",
       "<style scoped>\n",
       "    .dataframe tbody tr th:only-of-type {\n",
       "        vertical-align: middle;\n",
       "    }\n",
       "\n",
       "    .dataframe tbody tr th {\n",
       "        vertical-align: top;\n",
       "    }\n",
       "\n",
       "    .dataframe thead th {\n",
       "        text-align: right;\n",
       "    }\n",
       "</style>\n",
       "<table border=\"1\" class=\"dataframe\">\n",
       "  <thead>\n",
       "    <tr style=\"text-align: right;\">\n",
       "      <th></th>\n",
       "      <th>ID_CPTE</th>\n",
       "      <th>TRANSACTION_AMT</th>\n",
       "      <th>TRANSACTION_DTTM</th>\n",
       "      <th>PAYMENT_REVERSAL_XFLG</th>\n",
       "    </tr>\n",
       "  </thead>\n",
       "  <tbody>\n",
       "    <tr>\n",
       "      <th>325</th>\n",
       "      <td>75780289</td>\n",
       "      <td>156.55</td>\n",
       "      <td>2012-01-02 00:00:00</td>\n",
       "      <td>Q</td>\n",
       "    </tr>\n",
       "    <tr>\n",
       "      <th>322</th>\n",
       "      <td>75780289</td>\n",
       "      <td>4110.75</td>\n",
       "      <td>2012-01-30 00:00:00</td>\n",
       "      <td>Q</td>\n",
       "    </tr>\n",
       "    <tr>\n",
       "      <th>327</th>\n",
       "      <td>75780289</td>\n",
       "      <td>491.40</td>\n",
       "      <td>2012-03-16 00:00:00</td>\n",
       "      <td>Q</td>\n",
       "    </tr>\n",
       "    <tr>\n",
       "      <th>323</th>\n",
       "      <td>75780289</td>\n",
       "      <td>308.00</td>\n",
       "      <td>2012-03-17 00:00:00</td>\n",
       "      <td>Q</td>\n",
       "    </tr>\n",
       "    <tr>\n",
       "      <th>326</th>\n",
       "      <td>75780289</td>\n",
       "      <td>187.86</td>\n",
       "      <td>2012-04-08 00:00:00</td>\n",
       "      <td>Q</td>\n",
       "    </tr>\n",
       "    <tr>\n",
       "      <th>335</th>\n",
       "      <td>75780289</td>\n",
       "      <td>408.00</td>\n",
       "      <td>2012-05-04 00:00:00</td>\n",
       "      <td>Q</td>\n",
       "    </tr>\n",
       "    <tr>\n",
       "      <th>332</th>\n",
       "      <td>75780289</td>\n",
       "      <td>328.65</td>\n",
       "      <td>2012-05-30 00:00:00</td>\n",
       "      <td>Q</td>\n",
       "    </tr>\n",
       "    <tr>\n",
       "      <th>333</th>\n",
       "      <td>75780289</td>\n",
       "      <td>78.00</td>\n",
       "      <td>2012-06-16 00:00:00</td>\n",
       "      <td>Q</td>\n",
       "    </tr>\n",
       "    <tr>\n",
       "      <th>321</th>\n",
       "      <td>75780289</td>\n",
       "      <td>325.52</td>\n",
       "      <td>2012-06-27 04:00:00</td>\n",
       "      <td>Q</td>\n",
       "    </tr>\n",
       "    <tr>\n",
       "      <th>329</th>\n",
       "      <td>75780289</td>\n",
       "      <td>314.15</td>\n",
       "      <td>2012-08-04 00:00:00</td>\n",
       "      <td>Q</td>\n",
       "    </tr>\n",
       "    <tr>\n",
       "      <th>334</th>\n",
       "      <td>75780289</td>\n",
       "      <td>182.31</td>\n",
       "      <td>2012-08-14 00:00:00</td>\n",
       "      <td>Q</td>\n",
       "    </tr>\n",
       "    <tr>\n",
       "      <th>331</th>\n",
       "      <td>75780289</td>\n",
       "      <td>787.50</td>\n",
       "      <td>2012-09-03 00:00:00</td>\n",
       "      <td>Q</td>\n",
       "    </tr>\n",
       "    <tr>\n",
       "      <th>324</th>\n",
       "      <td>75780289</td>\n",
       "      <td>500.00</td>\n",
       "      <td>2012-09-25 00:00:00</td>\n",
       "      <td>Q</td>\n",
       "    </tr>\n",
       "    <tr>\n",
       "      <th>328</th>\n",
       "      <td>75780289</td>\n",
       "      <td>510.92</td>\n",
       "      <td>2012-11-03 00:00:00</td>\n",
       "      <td>Q</td>\n",
       "    </tr>\n",
       "    <tr>\n",
       "      <th>330</th>\n",
       "      <td>75780289</td>\n",
       "      <td>457.60</td>\n",
       "      <td>2012-12-04 00:00:00</td>\n",
       "      <td>Q</td>\n",
       "    </tr>\n",
       "  </tbody>\n",
       "</table>\n",
       "</div>"
      ],
      "text/plain": [
       "      ID_CPTE  TRANSACTION_AMT     TRANSACTION_DTTM PAYMENT_REVERSAL_XFLG\n",
       "325  75780289           156.55  2012-01-02 00:00:00                     Q\n",
       "322  75780289          4110.75  2012-01-30 00:00:00                     Q\n",
       "327  75780289           491.40  2012-03-16 00:00:00                     Q\n",
       "323  75780289           308.00  2012-03-17 00:00:00                     Q\n",
       "326  75780289           187.86  2012-04-08 00:00:00                     Q\n",
       "335  75780289           408.00  2012-05-04 00:00:00                     Q\n",
       "332  75780289           328.65  2012-05-30 00:00:00                     Q\n",
       "333  75780289            78.00  2012-06-16 00:00:00                     Q\n",
       "321  75780289           325.52  2012-06-27 04:00:00                     Q\n",
       "329  75780289           314.15  2012-08-04 00:00:00                     Q\n",
       "334  75780289           182.31  2012-08-14 00:00:00                     Q\n",
       "331  75780289           787.50  2012-09-03 00:00:00                     Q\n",
       "324  75780289           500.00  2012-09-25 00:00:00                     Q\n",
       "328  75780289           510.92  2012-11-03 00:00:00                     Q\n",
       "330  75780289           457.60  2012-12-04 00:00:00                     Q"
      ]
     },
     "execution_count": 368,
     "metadata": {},
     "output_type": "execute_result"
    }
   ],
   "source": [
    "payments[payments['ID_CPTE'] == next_default_client].sort_values(by='TRANSACTION_DTTM')"
   ]
  },
  {
   "cell_type": "code",
   "execution_count": 250,
   "metadata": {
    "collapsed": false
   },
   "outputs": [],
   "source": [
    "payments[\"TRANSACTION_DTTM\"] = pd.to_datetime(payments[\"TRANSACTION_DTTM\"].apply(lambda x: str(x)[0:7]))"
   ]
  },
  {
   "cell_type": "code",
   "execution_count": 258,
   "metadata": {
    "collapsed": false
   },
   "outputs": [
    {
     "data": {
      "text/plain": [
       "-1"
      ]
     },
     "execution_count": 258,
     "metadata": {},
     "output_type": "execute_result"
    }
   ],
   "source": [
    "((payments[\"TRANSACTION_DTTM\"][0] - payments[\"TRANSACTION_DTTM\"][1])/30).days"
   ]
  },
  {
   "cell_type": "code",
   "execution_count": 266,
   "metadata": {
    "collapsed": false
   },
   "outputs": [
    {
     "data": {
      "text/html": [
       "<div>\n",
       "<style scoped>\n",
       "    .dataframe tbody tr th:only-of-type {\n",
       "        vertical-align: middle;\n",
       "    }\n",
       "\n",
       "    .dataframe tbody tr th {\n",
       "        vertical-align: top;\n",
       "    }\n",
       "\n",
       "    .dataframe thead th {\n",
       "        text-align: right;\n",
       "    }\n",
       "</style>\n",
       "<table border=\"1\" class=\"dataframe\">\n",
       "  <thead>\n",
       "    <tr style=\"text-align: right;\">\n",
       "      <th></th>\n",
       "      <th>ID_CPTE</th>\n",
       "      <th>TRANSACTION_AMT</th>\n",
       "      <th>TRANSACTION_DTTM</th>\n",
       "      <th>PAYMENT_REVERSAL_XFLG</th>\n",
       "    </tr>\n",
       "  </thead>\n",
       "  <tbody>\n",
       "    <tr>\n",
       "      <th>322</th>\n",
       "      <td>75780289</td>\n",
       "      <td>4110.75</td>\n",
       "      <td>2012-01-01</td>\n",
       "      <td>Q</td>\n",
       "    </tr>\n",
       "    <tr>\n",
       "      <th>325</th>\n",
       "      <td>75780289</td>\n",
       "      <td>156.55</td>\n",
       "      <td>2012-01-01</td>\n",
       "      <td>Q</td>\n",
       "    </tr>\n",
       "    <tr>\n",
       "      <th>323</th>\n",
       "      <td>75780289</td>\n",
       "      <td>308.00</td>\n",
       "      <td>2012-03-01</td>\n",
       "      <td>Q</td>\n",
       "    </tr>\n",
       "    <tr>\n",
       "      <th>327</th>\n",
       "      <td>75780289</td>\n",
       "      <td>491.40</td>\n",
       "      <td>2012-03-01</td>\n",
       "      <td>Q</td>\n",
       "    </tr>\n",
       "    <tr>\n",
       "      <th>326</th>\n",
       "      <td>75780289</td>\n",
       "      <td>187.86</td>\n",
       "      <td>2012-04-01</td>\n",
       "      <td>Q</td>\n",
       "    </tr>\n",
       "    <tr>\n",
       "      <th>332</th>\n",
       "      <td>75780289</td>\n",
       "      <td>328.65</td>\n",
       "      <td>2012-05-01</td>\n",
       "      <td>Q</td>\n",
       "    </tr>\n",
       "    <tr>\n",
       "      <th>335</th>\n",
       "      <td>75780289</td>\n",
       "      <td>408.00</td>\n",
       "      <td>2012-05-01</td>\n",
       "      <td>Q</td>\n",
       "    </tr>\n",
       "    <tr>\n",
       "      <th>321</th>\n",
       "      <td>75780289</td>\n",
       "      <td>325.52</td>\n",
       "      <td>2012-06-01</td>\n",
       "      <td>Q</td>\n",
       "    </tr>\n",
       "    <tr>\n",
       "      <th>333</th>\n",
       "      <td>75780289</td>\n",
       "      <td>78.00</td>\n",
       "      <td>2012-06-01</td>\n",
       "      <td>Q</td>\n",
       "    </tr>\n",
       "    <tr>\n",
       "      <th>329</th>\n",
       "      <td>75780289</td>\n",
       "      <td>314.15</td>\n",
       "      <td>2012-08-01</td>\n",
       "      <td>Q</td>\n",
       "    </tr>\n",
       "    <tr>\n",
       "      <th>334</th>\n",
       "      <td>75780289</td>\n",
       "      <td>182.31</td>\n",
       "      <td>2012-08-01</td>\n",
       "      <td>Q</td>\n",
       "    </tr>\n",
       "    <tr>\n",
       "      <th>324</th>\n",
       "      <td>75780289</td>\n",
       "      <td>500.00</td>\n",
       "      <td>2012-09-01</td>\n",
       "      <td>Q</td>\n",
       "    </tr>\n",
       "    <tr>\n",
       "      <th>331</th>\n",
       "      <td>75780289</td>\n",
       "      <td>787.50</td>\n",
       "      <td>2012-09-01</td>\n",
       "      <td>Q</td>\n",
       "    </tr>\n",
       "    <tr>\n",
       "      <th>328</th>\n",
       "      <td>75780289</td>\n",
       "      <td>510.92</td>\n",
       "      <td>2012-11-01</td>\n",
       "      <td>Q</td>\n",
       "    </tr>\n",
       "    <tr>\n",
       "      <th>330</th>\n",
       "      <td>75780289</td>\n",
       "      <td>457.60</td>\n",
       "      <td>2012-12-01</td>\n",
       "      <td>Q</td>\n",
       "    </tr>\n",
       "  </tbody>\n",
       "</table>\n",
       "</div>"
      ],
      "text/plain": [
       "      ID_CPTE  TRANSACTION_AMT TRANSACTION_DTTM PAYMENT_REVERSAL_XFLG\n",
       "322  75780289          4110.75       2012-01-01                     Q\n",
       "325  75780289           156.55       2012-01-01                     Q\n",
       "323  75780289           308.00       2012-03-01                     Q\n",
       "327  75780289           491.40       2012-03-01                     Q\n",
       "326  75780289           187.86       2012-04-01                     Q\n",
       "332  75780289           328.65       2012-05-01                     Q\n",
       "335  75780289           408.00       2012-05-01                     Q\n",
       "321  75780289           325.52       2012-06-01                     Q\n",
       "333  75780289            78.00       2012-06-01                     Q\n",
       "329  75780289           314.15       2012-08-01                     Q\n",
       "334  75780289           182.31       2012-08-01                     Q\n",
       "324  75780289           500.00       2012-09-01                     Q\n",
       "331  75780289           787.50       2012-09-01                     Q\n",
       "328  75780289           510.92       2012-11-01                     Q\n",
       "330  75780289           457.60       2012-12-01                     Q"
      ]
     },
     "execution_count": 266,
     "metadata": {},
     "output_type": "execute_result"
    }
   ],
   "source": [
    "payments[payments['ID_CPTE'] == next_default_client].sort_values(by='TRANSACTION_DTTM')"
   ]
  },
  {
   "cell_type": "code",
   "execution_count": 435,
   "metadata": {
    "collapsed": false
   },
   "outputs": [],
   "source": []
  },
  {
   "cell_type": "code",
   "execution_count": 567,
   "metadata": {
    "collapsed": false
   },
   "outputs": [],
   "source": [
    "def summarize_by_ID(dataframe):\n",
    "    output = {}\n",
    "    DECISION_keys = dataframe[\"DECISION_XCD\"].value_counts().keys()\n",
    "    TRANSACTION_C_keys = dataframe[\"TRANSACTION_CATEGORY_XCD\"].value_counts().keys()\n",
    "    TRANSACTION_T_keys = dataframe[\"TRANSACTION_TYPE_XCD\"].value_counts().keys()\n",
    "    cmt = dataframe[\"cred_minus_transaction_net_positive\"].value_counts().keys()\n",
    "    MERCHANT_COUNTRY_XCD_keys = dataframe[\"MERCHANT_COUNTRY_XCD\"].value_counts().keys()\n",
    "    MERCHANT_CITY_keys = dataframe[\"MERCHANT_CITY_NAME\"].value_counts().keys()\n",
    "    MERCHANT_CATEGORY_XCD_keys = dataframe[\"MERCHANT_CATEGORY_XCD\"].value_counts().keys()      \n",
    "    SICGROUP_keys = dataframe[\"SICGROUP\"].value_counts().keys()\n",
    "    for i in dataframe[\"ID_CPTE\"].value_counts().keys():        \n",
    "        subframe = dataframe.loc[dataframe[\"ID_CPTE\"] == i]\n",
    "        #query for MERCHANT_COUNTRY_XCD\n",
    "        MERCHANT_COUNTRY_XCD_dict = {}\n",
    "        for j in MERCHANT_COUNTRY_XCD_keys:\n",
    "            s = \"MERCHANT_COUNTRY_XCD_\" + str(j)\n",
    "            try:\n",
    "                MERCHANT_COUNTRY_XCD_dict[s] = subframe[\"MERCHANT_COUNTRY_XCD\"].value_counts(normalize=True)[j]\n",
    "            except:\n",
    "                MERCHANT_COUNTRY_XCD_dict[s] = 0\n",
    "        #query for MERCHANT_CITY_NAME\n",
    "        MERCHANT_CITY_NAME_dict = {}\n",
    "        for j in MERCHANT_CITY_keys:\n",
    "            s = \"MERCHANT_CITY_NAME_\" + str(j)\n",
    "            try:\n",
    "                MERCHANT_CITY_NAME_dict[s] = subframe[\"MERCHANT_CITY_NAME\"].value_counts(normalize=True)[j]\n",
    "            except:\n",
    "                MERCHANT_CITY_NAME_dict[s] = 0                \n",
    "        #query for MERCHANT_CATEGORY_XCD_\n",
    "        MERCHANT_CATEGORY_XCD_dict = {}\n",
    "        for j in MERCHANT_CATEGORY_XCD_keys:\n",
    "            s = \"MERCHANT_CATEGORY_XCD_\" + str(j)\n",
    "            try:\n",
    "                MERCHANT_CATEGORY_XCD_dict[s] = subframe[\"MERCHANT_CATEGORY_XCD\"].value_counts(normalize=True)[j]\n",
    "            except:\n",
    "                MERCHANT_CATEGORY_XCD_dict[s] = 0\n",
    "                \n",
    "\n",
    "        #query for DECISION_XCD\n",
    "        DECISION_dict = {}\n",
    "        for j in DECISION_keys:\n",
    "            s = \"DECISION_XCD_\" + j\n",
    "            try:\n",
    "                DECISION_dict[s] = subframe[\"DECISION_XCD\"].value_counts(normalize=True)[j]\n",
    "            except:\n",
    "                DECISION_dict[s] = 0\n",
    "        #query for transaction_c\n",
    "        TRANSACTION_C_dict = {}\n",
    "        for j in TRANSACTION_C_keys:\n",
    "            s = \"TRANSACTION_C_\" + j\n",
    "            try:\n",
    "                TRANSACTION_C_dict[s] = subframe[\"TRANSACTION_CATEGORY_XCD\"].value_counts(normalize=True)[j]\n",
    "            except:\n",
    "                TRANSACTION_C_dict[s] = 0\n",
    "        TRANSACTION_T_dict = {}\n",
    "        #query for transaction_t    \n",
    "        for j in TRANSACTION_T_keys:\n",
    "            s = \"TRANSACTION_T_\" + j\n",
    "            try:\n",
    "                TRANSACTION_T_dict[s] = subframe[\"TRANSACTION_TYPE_XCD\"].value_counts(normalize=True)[j]\n",
    "            except:\n",
    "                TRANSACTION_T_dict[s] = 0\n",
    "        #query for SICGROUP\n",
    "        SICGROUP_dict = {}\n",
    "\n",
    "        for j in SICGROUP_keys:\n",
    "            s = \"SCIGROUP_\" + j\n",
    "            try:\n",
    "                SICGROUP_dict[s] = subframe[\"SICGROUP\"].value_counts(normalize=True)[j]\n",
    "            except:\n",
    "                SICGROUP_dict[s] = 0\n",
    "        CMT_dict = {}\n",
    "        for j in cmt:\n",
    "            s = \"cred_minus_transaction_net_positive\" + str(j)\n",
    "            try:\n",
    "                CMT_dict[s] = subframe[\"cred_minus_transaction_net_positive\"].value_counts(normalize=True)[j]\n",
    "            except:\n",
    "                CMT_dict[s] = 0\n",
    "                \n",
    "        output[i] = [DECISION_dict, TRANSACTION_C_dict, TRANSACTION_T_dict, SICGROUP_dict, CMT_dict]\n",
    "    return output\n",
    "def add_month_difference(dataframe, ID):\n",
    "    subframe = dataframe[dataframe[\"ID_CPTE\"] == ID]\n",
    "    subframe  = subframe.sort_values(by = \"TRANSACTION_DTTM\")\n",
    "    subframe[\"TRANSACTION_SINCE_FIRST\"] = pd.to_datetime(subframe[\"TRANSACTION_DTTM\"].apply(lambda x : str(x)[0:7]))\n",
    "    first_month = subframe.iloc[0][\"TRANSACTION_SINCE_FIRST\"]\n",
    "    subframe[\"TRANSACTION_SINCE_FIRST\"] = subframe[\"TRANSACTION_SINCE_FIRST\"].apply(lambda x : math.floor((x - first_month).days/30))  \n",
    "    \n",
    "    return subframe\n",
    "    \n",
    "def summarize_by_ID_2(dataframe):\n",
    "    dataframe = dataframe.dropna()\n",
    "    output = {}\n",
    "    PAYMENT_REVERSAL_XFLG_key =  dataframe[\"PAYMENT_REVERSAL_XFLG\"].value_counts().keys()\n",
    "    for i in dataframe[\"ID_CPTE\"].value_counts().keys():    \n",
    "\n",
    "        subframe = add_month_difference(dataframe, i)\n",
    "        \n",
    "        MONTH_KEY = set(subframe[\"TRANSACTION_SINCE_FIRST\"])       \n",
    "        \n",
    "        TRANSACTION_SUM_dict = {}\n",
    "        for j in MONTH_KEY:\n",
    "            s = \"TRANSACTION_AMT_MONTH_\" + str(j)\n",
    "            try:\n",
    "                TRANSACTION_SUM_dict[s] = subframe[subframe[\"TRANSACTION_SINCE_FIRST\"] == j][\"TRANSACTION_AMT\"].sum()\n",
    "            except: \n",
    "                TRANSACTION_SUM_dict[s] = 0\n",
    "\n",
    "        PAYMENT_REVERSAL_XFLG_dict = {}\n",
    "        for j in PAYMENT_REVERSAL_XFLG_key:\n",
    "            s = \"PAYMENT_REVERSAL_XFLG_key_\" + str(j)\n",
    "            try:\n",
    "                PAYMENT_REVERSAL_XFLG_dict[s] = subframe[\"PAYMENT_REVERSAL_XFLG\"].value_counts(normalize=True)[j]\n",
    "            except:\n",
    "                PAYMENT_REVERSAL_XFLG_dict[s] = 0   \n",
    "        output[i] = [TRANSACTION_SUM_dict,PAYMENT_REVERSAL_XFLG_dict,TRANSACTION_SUM_dict]\n",
    "        \n",
    "        \n",
    "        \n",
    "        \n",
    "    return output"
   ]
  },
  {
   "cell_type": "code",
   "execution_count": null,
   "metadata": {
    "collapsed": false
   },
   "outputs": [],
   "source": [
    "def feature_engineering(performance,paiements,transactions,test):\n",
    "    performance[\"PERIODID_MY\"]= pd.to_datetime(performance[\"PERIODID_MY\"]).dt.year\n",
    "    #Get rid of BS features\n",
    "    transaction_dropped = transactions.drop([#\"MERCHANT_CITY_NAME\",\"MERCHANT_CATEGORY_XCD\",\"MERCHANT_COUNTRY_XCD\", \n",
    "                                             \"TRANSACTION_DTTM\"],1)\n",
    "    \n",
    "    ## add credit limit minus transaction amount and drop credit limit, transaction amount\n",
    "    cred_minus_transaction = transaction_dropped[\"PRIOR_CREDIT_LIMIT_AMT\"].sub(transaction_dropped[\"TRANSACTION_AMT\"])\n",
    "    transaction_dropped = transaction_dropped.drop([\"PRIOR_CREDIT_LIMIT_AMT\", \"TRANSACTION_AMT\"],1)\n",
    "    transaction_dropped['cred_minus_transaction'] = cred_minus_transaction\n",
    "    \n",
    "    # drop cred_minus_transaction and query whether it is positive\n",
    "    transaction_dropped[\"cred_minus_transaction_net_positive\"] = transaction_dropped[\"cred_minus_transaction\"].ge(0)\n",
    "    transaction_dropped = transaction_dropped.drop([\"cred_minus_transaction\"],1)\n",
    "    \n",
    "    \n",
    "    # \n",
    "    \n",
    "    \n",
    "    ##Create cleaned dataframe for transaction \n",
    "    output = summarize_by_ID(transaction_dropped)\n",
    "    convert = {}\n",
    "    s = pd.Series()\n",
    "    for i in output.keys():\n",
    "        for k in output[i]:\n",
    "            s= {**s,**k}\n",
    "        convert[i] = pd.Series(s)\n",
    "    final = pd.DataFrame.from_dict(convert, orient='index')\n",
    "    \n",
    "    #create cleaned dataframe for payments\n",
    "\n",
    "    paiements_drop = paiements.drop([\"TRANSACTION_DTTM\"],1)\n",
    "    \n",
    "    output2 = summarize_by_ID_2(paiements_drop)\n",
    "    convert2 = {}\n",
    "    s2 = pd.Series()\n",
    "    for i in output2.keys():\n",
    "        for k2 in output2[i]:\n",
    "            s2= {**s2,**k2}\n",
    "        convert2[i] = pd.Series(s2)    \n",
    "    final2 = pd.DataFrame.from_dict(convert2, orient='index')\n",
    "    \n",
    "    #create cleaned dataframe for performance\n",
    "    temp = performance.set_index(\"ID_CPTE\")\n",
    "    del temp.index.name\n",
    "    \n",
    "    combined = final2.combine_first(final.combine_first(temp))\n",
    "    if (not test):\n",
    "        combined_drop_features = combined[[\"cred_minus_transaction_net_positiveTrue\",\"Default\", \"PAYMENT_REVERSAL_XFLG_key_Q\"]]\n",
    "    else:\n",
    "        combined_drop_features = combined[[\"cred_minus_transaction_net_positiveTrue\", \"PAYMENT_REVERSAL_XFLG_key_Q\"]]\n",
    "        \n",
    "    return combined_drop_features"
   ]
  },
  {
   "cell_type": "code",
   "execution_count": null,
   "metadata": {
    "collapsed": false
   },
   "outputs": [],
   "source": [
    "\n",
    "dataset_train = feature_engineering(performance,payments,transactions, False)\n",
    "\n",
    "#whole dataset split x,y\n",
    "dataset_train_x, dataset_train_y =  dataset_train.drop([\"Default\"],1), dataset_train[\"Default\"]\n",
    "\n",
    "##### Training dataset created #####\n",
    "#dataset split training and validation\n",
    "\n",
    "train, valid = train_test_split(dataset_train, test_size=0.2)\n",
    "train_y = train[\"Default\"]\n",
    "train_x = train.drop([\"Default\"],1)\n",
    "valid_y = valid[\"Default\"]\n",
    "valid_x = valid.drop([\"Default\"],1)\n",
    "#imputation#\n",
    "train_x_imp, valid_x_imp = imputing(dataset_train_x,train_x), imputing(dataset_train_x,valid_x)\n",
    "dataset_train_x_imp = imputing(dataset_train_x,dataset_train_x)"
   ]
  },
  {
   "cell_type": "code",
   "execution_count": 557,
   "metadata": {
    "collapsed": false
   },
   "outputs": [
    {
     "data": {
      "text/plain": [
       "75"
      ]
     },
     "execution_count": 557,
     "metadata": {},
     "output_type": "execute_result"
    }
   ],
   "source": [
    "len(payments[payments[\"TRANSACTION_DTTM\"].isna()])"
   ]
  },
  {
   "cell_type": "code",
   "execution_count": 554,
   "metadata": {
    "collapsed": false
   },
   "outputs": [
    {
     "data": {
      "text/plain": [
       "11900"
      ]
     },
     "execution_count": 554,
     "metadata": {},
     "output_type": "execute_result"
    }
   ],
   "source": [
    "len(set(payments[\"ID_CPTE\"]))"
   ]
  },
  {
   "cell_type": "code",
   "execution_count": 563,
   "metadata": {
    "collapsed": false
   },
   "outputs": [
    {
     "data": {
      "text/plain": [
       "Int64Index([0, 0, 2, 2, 3, 4, 4, 5, 5, 7, 7, 8, 8, 10, 11], dtype='int64', name='TRANSACTION_SINCE_FIRST')"
      ]
     },
     "execution_count": 563,
     "metadata": {},
     "output_type": "execute_result"
    }
   ],
   "source": [
    "a.index"
   ]
  },
  {
   "cell_type": "code",
   "execution_count": null,
   "metadata": {
    "collapsed": true
   },
   "outputs": [],
   "source": []
  }
 ],
 "metadata": {
  "anaconda-cloud": {},
  "kernelspec": {
   "display_name": "Python [conda env:anaconda3]",
   "language": "python",
   "name": "conda-env-anaconda3-py"
  },
  "language_info": {
   "codemirror_mode": {
    "name": "ipython",
    "version": 3
   },
   "file_extension": ".py",
   "mimetype": "text/x-python",
   "name": "python",
   "nbconvert_exporter": "python",
   "pygments_lexer": "ipython3",
   "version": "3.5.5"
  }
 },
 "nbformat": 4,
 "nbformat_minor": 1
}
