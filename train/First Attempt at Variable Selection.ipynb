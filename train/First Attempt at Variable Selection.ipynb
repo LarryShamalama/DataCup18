{
 "cells": [
  {
   "cell_type": "markdown",
   "metadata": {},
   "source": [
    "## Variables Chosen\n",
    "\n",
    "The four predictor variables are as followed:\n",
    "- If there exists a ```DelqCycle``` $>0$;\n",
    "- If there exists an instance where ```CurrentTotalBalance``` $>$ ```CreditLimit```;\n",
    "- 2nd largest decrease in ```CurrentTotalBalance``` from statement to statement;\n",
    "- Max number of days where ```CurrentTotalBalance``` is strictly increasing"
   ]
  },
  {
   "cell_type": "code",
   "execution_count": 233,
   "metadata": {
    "scrolled": true
   },
   "outputs": [],
   "source": [
    "import numpy as np\n",
    "import pandas as pd\n",
    "import matplotlib.pyplot as plt\n",
    "import tensorflow as tf\n",
    "\n",
    "from sklearn.linear_model import LogisticRegression as LR\n",
    "from sklearn.tree import DecisionTreeClassifier as DTC\n",
    "from sklearn.ensemble import GradientBoostingClassifier as GBC\n",
    "from sklearn.model_selection import train_test_split\n",
    "\n",
    "import os\n",
    "\n",
    "%matplotlib inline"
   ]
  },
  {
   "cell_type": "code",
   "execution_count": 2,
   "metadata": {
    "scrolled": true
   },
   "outputs": [
    {
     "name": "stdout",
     "output_type": "stream",
     "text": [
      "Proportion of clients who default: 0.19336134453781512\n"
     ]
    }
   ],
   "source": [
    "performance  = pd.read_csv('performance_train.csv')\n",
    "facturation  = pd.read_csv('facturation_train.csv')\n",
    "payments     = pd.read_csv('paiements_train.csv')\n",
    "transactions = pd.read_csv('transactions_train.csv')\n",
    "\n",
    "customer_ids = performance['ID_CPTE']\n",
    "\n",
    "print('Proportion of clients who default:', sum(performance['Default'])/len(performance))"
   ]
  },
  {
   "cell_type": "code",
   "execution_count": 20,
   "metadata": {
    "scrolled": true
   },
   "outputs": [],
   "source": [
    "class customer:\n",
    "    \n",
    "    def __init__(self, customer_id, performance, facturation, payments, transactions):\n",
    "        \n",
    "        self.customer_id  = customer_id\n",
    "        self.performance  = performance\n",
    "        self.facturation  = facturation\n",
    "        self.payments     = payments\n",
    "        self.transactions = transactions\n",
    "        \n",
    "        self.assessment = list(performance['PERIODID_MY'])[0]\n",
    "        self.default    = list(performance['Default'])[0]\n",
    "        \n",
    "def generate_clients(customer_ids, *dfs):\n",
    "\n",
    "    for cus in customer_ids:\n",
    "        yield [cus] + [df[df['ID_CPTE'] == cus] for df in dfs]\n",
    "        \n",
    "client_generator = generate_clients(customer_ids, performance, facturation, payments, transactions)\n",
    "clients = [customer(*client_info) for client_info in client_generator]"
   ]
  },
  {
   "cell_type": "code",
   "execution_count": 200,
   "metadata": {
    "scrolled": true
   },
   "outputs": [],
   "source": [
    "y_data = performance['Default'].values.reshape(-1, 1)"
   ]
  },
  {
   "cell_type": "code",
   "execution_count": 312,
   "metadata": {
    "scrolled": true
   },
   "outputs": [],
   "source": [
    "def get_max_consecutive_true(array):\n",
    "    try:\n",
    "        output = max([sum(g) for b, g in itertools.groupby(array) if b])\n",
    "    except ValueError:\n",
    "        return 0\n",
    "    return output\n",
    "\n",
    "\n",
    "def create_x_train(performance, facturation, payments, transactions):\n",
    "    '''\n",
    "    can use for \n",
    "    '''\n",
    "    second_biggest_payment  = []\n",
    "    relative_cash_balance   = []\n",
    "    longest_streak_increase = []\n",
    "    \n",
    "    customer_ids = performance['ID_CPTE']\n",
    "\n",
    "    client_generator = generate_clients(customer_ids, performance, facturation, payments, transactions)\n",
    "    clients = [customer(*client_info) for client_info in client_generator]\n",
    "    \n",
    "    for cl in clients:\n",
    "        ctb = cl.facturation.sort_values(by='PERIODID_MY')['CurrentTotalBalance'].values\n",
    "        second_biggest_payment.append(np.sort(ctb[:-1] - ctb[1:])[-2])\n",
    "\n",
    "        rel_cb = max(cl.facturation['CashBalance']/cl.facturation['CreditLimit'])\n",
    "        relative_cash_balance.append(rel_cb > 0)\n",
    "\n",
    "        longest_streak_increase.append(get_max_consecutive_true((ctb[1:] - ctb[:-1]) > 0))\n",
    "\n",
    "    over_limit_people = set(facturation[facturation['CurrentTotalBalance'] > facturation['CreditLimit']]['ID_CPTE'])\n",
    "    has_delqcycle     = set(facturation[facturation['DelqCycle'] > 0]['ID_CPTE'])\n",
    "        \n",
    "    over_limit_one_hot = np.array([cl in over_limit_people for cl in performance['ID_CPTE']], dtype=np.float32)\n",
    "    has_delq_one_hot   = np.array([cl in has_delqcycle for cl in performance['ID_CPTE']], dtype=np.float32)\n",
    "    \n",
    "    x_data = np.vstack((second_biggest_payment,\n",
    "                     relative_cash_balance,\n",
    "                     longest_streak_increase,\n",
    "                     over_limit_one_hot,\n",
    "                     has_delq_one_hot)).T\n",
    "    \n",
    "    return x_data"
   ]
  },
  {
   "cell_type": "code",
   "execution_count": 313,
   "metadata": {
    "scrolled": true
   },
   "outputs": [],
   "source": [
    "train_data, test_data = train_test_split(list(zip(x_data, y_data)))\n",
    "\n",
    "x_train, y_train = zip(*train_data)\n",
    "x_test, y_test   = zip(*test_data)\n",
    "\n",
    "x_train = np.array(x_train)\n",
    "y_train = np.array(y_train)\n",
    "x_test  = np.array(x_test)\n",
    "y_test  = np.array(y_test)"
   ]
  },
  {
   "cell_type": "code",
   "execution_count": 314,
   "metadata": {
    "scrolled": true
   },
   "outputs": [],
   "source": [
    "y_predicted = {}\n",
    "\n",
    "logistic_regression_classifier = LR()\n",
    "lrc = logistic_regression_classifier.fit(x_train, y_train.reshape(-1))\n",
    "\n",
    "gradient_boosting_classifier = GBC()\n",
    "gbc = gradient_boosting_classifier.fit(x_train, y_train.reshape(-1))\n",
    "\n",
    "decision_tree_classifier = DTC()\n",
    "dtc = decision_tree_classifier.fit(x_train, y_train.reshape(-1))"
   ]
  },
  {
   "cell_type": "code",
   "execution_count": 315,
   "metadata": {
    "scrolled": true
   },
   "outputs": [],
   "source": [
    "performance_test  = pd.read_csv('../test/performance_test.csv')\n",
    "facturation_test  = pd.read_csv('../test/facturation_test.csv')\n",
    "payments_test     = pd.read_csv('../test/paiements_test.csv')\n",
    "transactions_test = pd.read_csv('../test/transactions_test.csv')\n",
    "\n",
    "submission_test_data = create_x_train(performance_test, facturation_test, payments_test, transactions_test)"
   ]
  },
  {
   "cell_type": "code",
   "execution_count": 316,
   "metadata": {
    "scrolled": true
   },
   "outputs": [],
   "source": [
    "submission = pd.read_csv('sample_solution.csv')"
   ]
  },
  {
   "cell_type": "code",
   "execution_count": 317,
   "metadata": {
    "scrolled": true
   },
   "outputs": [],
   "source": [
    "y_test_lrc = lrc.predict(submission_test_data)\n",
    "y_test_gbc = gbc.predict(submission_test_data)\n",
    "y_test_dtc = dtc.predict(submission_test_data)"
   ]
  },
  {
   "cell_type": "code",
   "execution_count": 329,
   "metadata": {
    "scrolled": true
   },
   "outputs": [],
   "source": [
    "submission['Default'] = np.array((y_test_lrc + y_test_gbc + y_test_dtc)/3 > 0.5, dtype=int)\n",
    "submission.to_csv('submission_1.csv')"
   ]
  },
  {
   "cell_type": "markdown",
   "metadata": {},
   "source": [
    "### Neural Network\n",
    "\n",
    "Training the neural network below doesn't really seem to work..."
   ]
  },
  {
   "cell_type": "code",
   "execution_count": 195,
   "metadata": {
    "scrolled": true
   },
   "outputs": [],
   "source": [
    "def create_batch_tuples(length, batch_size):\n",
    "    output = np.arange(0, length, batch_size)\n",
    "    \n",
    "    if output[-1] != length:\n",
    "        output = np.append(output, length)\n",
    "        \n",
    "    return list(zip(output[:-1], output[1:]))\n",
    "\n",
    "\n",
    "def simple_neural_network(x_train, y_train, x_test, batch_size):\n",
    "    tf.reset_default_graph()\n",
    "    \n",
    "    _, x_dim = np.shape(x_train)\n",
    "    _, y_dim = np.shape(y_train)\n",
    "    \n",
    "    NUM_HIDDEN = 10\n",
    "    EPOCHS     = 50\n",
    "    \n",
    "    x = tf.placeholder(dtype=tf.float32, shape=[None, x_dim])\n",
    "    y = tf.placeholder(dtype=tf.float32, shape=[None, y_dim])\n",
    "    \n",
    "    w_1 = tf.get_variable(name='w_1', shape=[x_dim, NUM_HIDDEN], initializer=tf.truncated_normal_initializer(stddev=0.02))\n",
    "    b_1 = tf.get_variable(name='b_1', shape=[NUM_HIDDEN], initializer=tf.truncated_normal_initializer(stddev=0.02))\n",
    "    \n",
    "    hidden = tf.matmul(x, w_1) + b_1\n",
    "    hidden = tf.nn.leaky_relu(hidden)\n",
    "    \n",
    "    w_2 = tf.get_variable(name='w_2', shape=[NUM_HIDDEN, y_dim], initializer=tf.truncated_normal_initializer(stddev=0.02))\n",
    "    b_2 = tf.get_variable(name='b_2', shape=[y_dim], initializer=tf.truncated_normal_initializer(stddev=0.02))\n",
    "    \n",
    "    predicted = tf.matmul(hidden, w_2) + b_2\n",
    "    y_pred = tf.sigmoid(predicted)\n",
    "    \n",
    "    cross_entropy = tf.nn.sigmoid_cross_entropy_with_logits(logits=y_pred, labels=y)\n",
    "    cost          = tf.reduce_mean(cross_entropy)\n",
    "    optimizer     = tf.train.AdamOptimizer(1e-2).minimize(cost)\n",
    "    \n",
    "    batches = create_batch_tuples(len(x_train), batch_size)\n",
    "    batches_test = create_batch_tuples(len(x_test), batch_size)\n",
    "    predicted_values = []\n",
    "    \n",
    "    with tf.Session() as sess:\n",
    "        \n",
    "        sess.run(tf.global_variables_initializer())\n",
    "        \n",
    "        for e in range(EPOCHS):\n",
    "            \n",
    "            for (start, end) in batches:\n",
    "                _ = sess.run(optimizer, feed_dict={x: x_train[start: end],\n",
    "                                                   y: y_train[start: end]})\n",
    "            \n",
    "            predicted_values = []\n",
    "            \n",
    "            for (start, end) in batches:\n",
    "                predicted_values.append(y_pred.eval({x: x_train[start: end]}))\n",
    "                \n",
    "            predicted_values = np.around(np.concatenate(predicted_values))\n",
    "            print('Epoch {}, accuracy = {}%'.format(e, np.mean(predicted_values == y_train.reshape(-1,))*100))\n",
    "            \n",
    "        predicted_values = []    \n",
    "        \n",
    "        for (start, end) in batches_test:\n",
    "            predicted_values.append(y_pred.eval({x: x_test[start: end]}))\n",
    "        \n",
    "        predicted_values = np.around(np.concatenate(predicted_values))\n",
    "\n",
    "        \n",
    "    return predicted_values"
   ]
  },
  {
   "cell_type": "code",
   "execution_count": 196,
   "metadata": {
    "scrolled": true
   },
   "outputs": [
    {
     "name": "stdout",
     "output_type": "stream",
     "text": [
      "Epoch 0, accuracy = 80.31342136854742%\n",
      "Epoch 1, accuracy = 80.35980368618036%\n",
      "Epoch 2, accuracy = 80.45256832144622%\n",
      "Epoch 3, accuracy = 80.45772191229433%\n",
      "Epoch 4, accuracy = 80.45256832144622%\n",
      "Epoch 5, accuracy = 80.45256832144622%\n",
      "Epoch 6, accuracy = 80.44741473059813%\n",
      "Epoch 7, accuracy = 80.44741473059813%\n",
      "Epoch 8, accuracy = 80.44741473059813%\n",
      "Epoch 9, accuracy = 80.44741473059813%\n",
      "Epoch 10, accuracy = 80.44741473059813%\n",
      "Epoch 11, accuracy = 80.45256832144622%\n",
      "Epoch 12, accuracy = 80.45772191229433%\n",
      "Epoch 13, accuracy = 80.45772191229433%\n"
     ]
    },
    {
     "ename": "KeyboardInterrupt",
     "evalue": "",
     "output_type": "error",
     "traceback": [
      "\u001b[0;31m---------------------------------------------------------------------------\u001b[0m",
      "\u001b[0;31mKeyboardInterrupt\u001b[0m                         Traceback (most recent call last)",
      "\u001b[0;32m<ipython-input-196-c5ba6afbb64e>\u001b[0m in \u001b[0;36m<module>\u001b[0;34m()\u001b[0m\n\u001b[0;32m----> 1\u001b[0;31m \u001b[0my_pred\u001b[0m \u001b[0;34m=\u001b[0m \u001b[0msimple_neural_network\u001b[0m\u001b[0;34m(\u001b[0m\u001b[0mx_train\u001b[0m\u001b[0;34m,\u001b[0m \u001b[0my_train\u001b[0m\u001b[0;34m,\u001b[0m \u001b[0mx_train\u001b[0m\u001b[0;34m,\u001b[0m \u001b[0;36m128\u001b[0m\u001b[0;34m)\u001b[0m\u001b[0;34m\u001b[0m\u001b[0m\n\u001b[0m",
      "\u001b[0;32m<ipython-input-195-634c1f90d634>\u001b[0m in \u001b[0;36msimple_neural_network\u001b[0;34m(x_train, y_train, x_test, batch_size)\u001b[0m\n\u001b[1;32m     48\u001b[0m             \u001b[0;32mfor\u001b[0m \u001b[0;34m(\u001b[0m\u001b[0mstart\u001b[0m\u001b[0;34m,\u001b[0m \u001b[0mend\u001b[0m\u001b[0;34m)\u001b[0m \u001b[0;32min\u001b[0m \u001b[0mbatches\u001b[0m\u001b[0;34m:\u001b[0m\u001b[0;34m\u001b[0m\u001b[0m\n\u001b[1;32m     49\u001b[0m                 _ = sess.run(optimizer, feed_dict={x: x_train[start: end],\n\u001b[0;32m---> 50\u001b[0;31m                                                    y: y_train[start: end]})\n\u001b[0m\u001b[1;32m     51\u001b[0m \u001b[0;34m\u001b[0m\u001b[0m\n\u001b[1;32m     52\u001b[0m             \u001b[0mpredicted_values\u001b[0m \u001b[0;34m=\u001b[0m \u001b[0;34m[\u001b[0m\u001b[0;34m]\u001b[0m\u001b[0;34m\u001b[0m\u001b[0m\n",
      "\u001b[0;32m~/Documents/Environments/ml/lib/python3.6/site-packages/tensorflow/python/client/session.py\u001b[0m in \u001b[0;36mrun\u001b[0;34m(self, fetches, feed_dict, options, run_metadata)\u001b[0m\n\u001b[1;32m    898\u001b[0m     \u001b[0;32mtry\u001b[0m\u001b[0;34m:\u001b[0m\u001b[0;34m\u001b[0m\u001b[0m\n\u001b[1;32m    899\u001b[0m       result = self._run(None, fetches, feed_dict, options_ptr,\n\u001b[0;32m--> 900\u001b[0;31m                          run_metadata_ptr)\n\u001b[0m\u001b[1;32m    901\u001b[0m       \u001b[0;32mif\u001b[0m \u001b[0mrun_metadata\u001b[0m\u001b[0;34m:\u001b[0m\u001b[0;34m\u001b[0m\u001b[0m\n\u001b[1;32m    902\u001b[0m         \u001b[0mproto_data\u001b[0m \u001b[0;34m=\u001b[0m \u001b[0mtf_session\u001b[0m\u001b[0;34m.\u001b[0m\u001b[0mTF_GetBuffer\u001b[0m\u001b[0;34m(\u001b[0m\u001b[0mrun_metadata_ptr\u001b[0m\u001b[0;34m)\u001b[0m\u001b[0;34m\u001b[0m\u001b[0m\n",
      "\u001b[0;32m~/Documents/Environments/ml/lib/python3.6/site-packages/tensorflow/python/client/session.py\u001b[0m in \u001b[0;36m_run\u001b[0;34m(self, handle, fetches, feed_dict, options, run_metadata)\u001b[0m\n\u001b[1;32m   1068\u001b[0m     \u001b[0mfeed_handles\u001b[0m \u001b[0;34m=\u001b[0m \u001b[0;34m{\u001b[0m\u001b[0;34m}\u001b[0m\u001b[0;34m\u001b[0m\u001b[0m\n\u001b[1;32m   1069\u001b[0m     \u001b[0;32mif\u001b[0m \u001b[0mfeed_dict\u001b[0m\u001b[0;34m:\u001b[0m\u001b[0;34m\u001b[0m\u001b[0m\n\u001b[0;32m-> 1070\u001b[0;31m       \u001b[0mfeed_dict\u001b[0m \u001b[0;34m=\u001b[0m \u001b[0mnest\u001b[0m\u001b[0;34m.\u001b[0m\u001b[0mflatten_dict_items\u001b[0m\u001b[0;34m(\u001b[0m\u001b[0mfeed_dict\u001b[0m\u001b[0;34m)\u001b[0m\u001b[0;34m\u001b[0m\u001b[0m\n\u001b[0m\u001b[1;32m   1071\u001b[0m       \u001b[0;32mfor\u001b[0m \u001b[0mfeed\u001b[0m\u001b[0;34m,\u001b[0m \u001b[0mfeed_val\u001b[0m \u001b[0;32min\u001b[0m \u001b[0mfeed_dict\u001b[0m\u001b[0;34m.\u001b[0m\u001b[0mitems\u001b[0m\u001b[0;34m(\u001b[0m\u001b[0;34m)\u001b[0m\u001b[0;34m:\u001b[0m\u001b[0;34m\u001b[0m\u001b[0m\n\u001b[1;32m   1072\u001b[0m         \u001b[0;32mfor\u001b[0m \u001b[0msubfeed\u001b[0m\u001b[0;34m,\u001b[0m \u001b[0msubfeed_val\u001b[0m \u001b[0;32min\u001b[0m \u001b[0m_feed_fn\u001b[0m\u001b[0;34m(\u001b[0m\u001b[0mfeed\u001b[0m\u001b[0;34m,\u001b[0m \u001b[0mfeed_val\u001b[0m\u001b[0;34m)\u001b[0m\u001b[0;34m:\u001b[0m\u001b[0;34m\u001b[0m\u001b[0m\n",
      "\u001b[0;32m~/Documents/Environments/ml/lib/python3.6/site-packages/tensorflow/python/util/nest.py\u001b[0m in \u001b[0;36mflatten_dict_items\u001b[0;34m(dictionary)\u001b[0m\n\u001b[1;32m    217\u001b[0m     \u001b[0;32mraise\u001b[0m \u001b[0mTypeError\u001b[0m\u001b[0;34m(\u001b[0m\u001b[0;34m\"input must be a dictionary\"\u001b[0m\u001b[0;34m)\u001b[0m\u001b[0;34m\u001b[0m\u001b[0m\n\u001b[1;32m    218\u001b[0m   \u001b[0mflat_dictionary\u001b[0m \u001b[0;34m=\u001b[0m \u001b[0;34m{\u001b[0m\u001b[0;34m}\u001b[0m\u001b[0;34m\u001b[0m\u001b[0m\n\u001b[0;32m--> 219\u001b[0;31m   \u001b[0;32mfor\u001b[0m \u001b[0mi\u001b[0m\u001b[0;34m,\u001b[0m \u001b[0mv\u001b[0m \u001b[0;32min\u001b[0m \u001b[0m_six\u001b[0m\u001b[0;34m.\u001b[0m\u001b[0miteritems\u001b[0m\u001b[0;34m(\u001b[0m\u001b[0mdictionary\u001b[0m\u001b[0;34m)\u001b[0m\u001b[0;34m:\u001b[0m\u001b[0;34m\u001b[0m\u001b[0m\n\u001b[0m\u001b[1;32m    220\u001b[0m     \u001b[0;32mif\u001b[0m \u001b[0;32mnot\u001b[0m \u001b[0mis_sequence\u001b[0m\u001b[0;34m(\u001b[0m\u001b[0mi\u001b[0m\u001b[0;34m)\u001b[0m\u001b[0;34m:\u001b[0m\u001b[0;34m\u001b[0m\u001b[0m\n\u001b[1;32m    221\u001b[0m       \u001b[0;32mif\u001b[0m \u001b[0mi\u001b[0m \u001b[0;32min\u001b[0m \u001b[0mflat_dictionary\u001b[0m\u001b[0;34m:\u001b[0m\u001b[0;34m\u001b[0m\u001b[0m\n",
      "\u001b[0;31mKeyboardInterrupt\u001b[0m: "
     ]
    }
   ],
   "source": [
    "y_pred = simple_neural_network(x_train, y_train, x_train, 128)"
   ]
  },
  {
   "cell_type": "code",
   "execution_count": 207,
   "metadata": {
    "scrolled": true
   },
   "outputs": [],
   "source": [
    "train_data, test_data = train_test_split(list(zip(x_data, y_data)))"
   ]
  },
  {
   "cell_type": "code",
   "execution_count": 220,
   "metadata": {
    "scrolled": true
   },
   "outputs": [],
   "source": [
    "x_train, y_train = zip(*train_data)\n",
    "x_test, y_test   = zip(*test_data)\n",
    "\n",
    "x_train = np.array(x_train)\n",
    "y_train = np.array(y_train)\n",
    "x_test  = np.array(x_test)\n",
    "y_test  = np.array(y_test)"
   ]
  },
  {
   "cell_type": "code",
   "execution_count": null,
   "metadata": {
    "scrolled": true
   },
   "outputs": [],
   "source": []
  },
  {
   "cell_type": "code",
   "execution_count": null,
   "metadata": {
    "scrolled": true
   },
   "outputs": [],
   "source": []
  }
 ],
 "metadata": {
  "kernelspec": {
   "display_name": "ml",
   "language": "python",
   "name": "ml"
  },
  "language_info": {
   "codemirror_mode": {
    "name": "ipython",
    "version": 3
   },
   "file_extension": ".py",
   "mimetype": "text/x-python",
   "name": "python",
   "nbconvert_exporter": "python",
   "pygments_lexer": "ipython3",
   "version": "3.6.4"
  }
 },
 "nbformat": 4,
 "nbformat_minor": 2
}
