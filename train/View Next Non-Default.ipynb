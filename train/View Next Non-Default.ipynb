{
 "cells": [
  {
   "cell_type": "code",
   "execution_count": 1,
   "metadata": {},
   "outputs": [],
   "source": [
    "import numpy as np\n",
    "import pandas as pd\n",
    "import matplotlib.pyplot as plt\n",
    "\n",
    "%matplotlib inline"
   ]
  },
  {
   "cell_type": "code",
   "execution_count": 2,
   "metadata": {},
   "outputs": [
    {
     "name": "stdout",
     "output_type": "stream",
     "text": [
      "Proportion of clients who default: 0.19336134453781512\n"
     ]
    }
   ],
   "source": [
    "performance  = pd.read_csv('performance_train.csv')\n",
    "facturation  = pd.read_csv('facturation_train.csv')\n",
    "payments     = pd.read_csv('paiements_train.csv')\n",
    "transactions = pd.read_csv('transactions_train.csv')\n",
    "\n",
    "customer_ids = performance['ID_CPTE']\n",
    "\n",
    "print('Proportion of clients who default:', sum(performance['Default'])/len(performance))"
   ]
  },
  {
   "cell_type": "code",
   "execution_count": 3,
   "metadata": {},
   "outputs": [],
   "source": [
    "non_default = performance[performance['Default'] == 0]['ID_CPTE']\n",
    "gen_non_def = (client for client in non_default)"
   ]
  },
  {
   "cell_type": "markdown",
   "metadata": {},
   "source": [
    "### Try not to reset ```default``` too often"
   ]
  },
  {
   "cell_type": "code",
   "execution_count": 50,
   "metadata": {},
   "outputs": [],
   "source": [
    "next_non_default_client = next(gen_non_def)"
   ]
  },
  {
   "cell_type": "code",
   "execution_count": 51,
   "metadata": {},
   "outputs": [
    {
     "data": {
      "text/html": [
       "<div>\n",
       "<style scoped>\n",
       "    .dataframe tbody tr th:only-of-type {\n",
       "        vertical-align: middle;\n",
       "    }\n",
       "\n",
       "    .dataframe tbody tr th {\n",
       "        vertical-align: top;\n",
       "    }\n",
       "\n",
       "    .dataframe thead th {\n",
       "        text-align: right;\n",
       "    }\n",
       "</style>\n",
       "<table border=\"1\" class=\"dataframe\">\n",
       "  <thead>\n",
       "    <tr style=\"text-align: right;\">\n",
       "      <th></th>\n",
       "      <th>ID_CPTE</th>\n",
       "      <th>PERIODID_MY</th>\n",
       "      <th>Default</th>\n",
       "    </tr>\n",
       "  </thead>\n",
       "  <tbody>\n",
       "    <tr>\n",
       "      <th>11</th>\n",
       "      <td>95779116</td>\n",
       "      <td>2015-12-01</td>\n",
       "      <td>0</td>\n",
       "    </tr>\n",
       "  </tbody>\n",
       "</table>\n",
       "</div>"
      ],
      "text/plain": [
       "     ID_CPTE PERIODID_MY  Default\n",
       "11  95779116  2015-12-01        0"
      ]
     },
     "execution_count": 51,
     "metadata": {},
     "output_type": "execute_result"
    }
   ],
   "source": [
    "performance[performance['ID_CPTE'] == next_non_default_client]"
   ]
  },
  {
   "cell_type": "code",
   "execution_count": 52,
   "metadata": {},
   "outputs": [
    {
     "data": {
      "text/html": [
       "<div>\n",
       "<style scoped>\n",
       "    .dataframe tbody tr th:only-of-type {\n",
       "        vertical-align: middle;\n",
       "    }\n",
       "\n",
       "    .dataframe tbody tr th {\n",
       "        vertical-align: top;\n",
       "    }\n",
       "\n",
       "    .dataframe thead th {\n",
       "        text-align: right;\n",
       "    }\n",
       "</style>\n",
       "<table border=\"1\" class=\"dataframe\">\n",
       "  <thead>\n",
       "    <tr style=\"text-align: right;\">\n",
       "      <th></th>\n",
       "      <th>ID_CPTE</th>\n",
       "      <th>PERIODID_MY</th>\n",
       "      <th>StatementDate</th>\n",
       "      <th>CurrentTotalBalance</th>\n",
       "      <th>CashBalance</th>\n",
       "      <th>CreditLimit</th>\n",
       "      <th>DelqCycle</th>\n",
       "    </tr>\n",
       "  </thead>\n",
       "  <tbody>\n",
       "    <tr>\n",
       "      <th>162</th>\n",
       "      <td>95779116</td>\n",
       "      <td>2014-11-01</td>\n",
       "      <td>2014-11-18</td>\n",
       "      <td>1463.70</td>\n",
       "      <td>0.0</td>\n",
       "      <td>11800.0</td>\n",
       "      <td>0</td>\n",
       "    </tr>\n",
       "    <tr>\n",
       "      <th>165</th>\n",
       "      <td>95779116</td>\n",
       "      <td>2014-12-01</td>\n",
       "      <td>2014-12-17</td>\n",
       "      <td>407.04</td>\n",
       "      <td>0.0</td>\n",
       "      <td>11800.0</td>\n",
       "      <td>0</td>\n",
       "    </tr>\n",
       "    <tr>\n",
       "      <th>160</th>\n",
       "      <td>95779116</td>\n",
       "      <td>2015-01-01</td>\n",
       "      <td>2015-01-19</td>\n",
       "      <td>1036.18</td>\n",
       "      <td>0.0</td>\n",
       "      <td>11800.0</td>\n",
       "      <td>0</td>\n",
       "    </tr>\n",
       "    <tr>\n",
       "      <th>161</th>\n",
       "      <td>95779116</td>\n",
       "      <td>2015-02-01</td>\n",
       "      <td>2015-02-17</td>\n",
       "      <td>492.20</td>\n",
       "      <td>0.0</td>\n",
       "      <td>11800.0</td>\n",
       "      <td>0</td>\n",
       "    </tr>\n",
       "    <tr>\n",
       "      <th>159</th>\n",
       "      <td>95779116</td>\n",
       "      <td>2015-03-01</td>\n",
       "      <td>2015-03-16</td>\n",
       "      <td>248.88</td>\n",
       "      <td>0.0</td>\n",
       "      <td>11800.0</td>\n",
       "      <td>0</td>\n",
       "    </tr>\n",
       "    <tr>\n",
       "      <th>154</th>\n",
       "      <td>95779116</td>\n",
       "      <td>2015-04-01</td>\n",
       "      <td>2015-04-13</td>\n",
       "      <td>544.84</td>\n",
       "      <td>0.0</td>\n",
       "      <td>15900.0</td>\n",
       "      <td>0</td>\n",
       "    </tr>\n",
       "    <tr>\n",
       "      <th>155</th>\n",
       "      <td>95779116</td>\n",
       "      <td>2015-05-01</td>\n",
       "      <td>2015-05-14</td>\n",
       "      <td>449.28</td>\n",
       "      <td>0.0</td>\n",
       "      <td>15900.0</td>\n",
       "      <td>0</td>\n",
       "    </tr>\n",
       "    <tr>\n",
       "      <th>167</th>\n",
       "      <td>95779116</td>\n",
       "      <td>2015-06-01</td>\n",
       "      <td>2015-06-13</td>\n",
       "      <td>556.50</td>\n",
       "      <td>0.0</td>\n",
       "      <td>15900.0</td>\n",
       "      <td>0</td>\n",
       "    </tr>\n",
       "    <tr>\n",
       "      <th>157</th>\n",
       "      <td>95779116</td>\n",
       "      <td>2015-07-01</td>\n",
       "      <td>2015-07-17</td>\n",
       "      <td>759.52</td>\n",
       "      <td>0.0</td>\n",
       "      <td>15900.0</td>\n",
       "      <td>0</td>\n",
       "    </tr>\n",
       "    <tr>\n",
       "      <th>163</th>\n",
       "      <td>95779116</td>\n",
       "      <td>2015-08-01</td>\n",
       "      <td>2015-08-17</td>\n",
       "      <td>386.58</td>\n",
       "      <td>0.0</td>\n",
       "      <td>15900.0</td>\n",
       "      <td>0</td>\n",
       "    </tr>\n",
       "    <tr>\n",
       "      <th>158</th>\n",
       "      <td>95779116</td>\n",
       "      <td>2015-09-01</td>\n",
       "      <td>2015-09-17</td>\n",
       "      <td>326.48</td>\n",
       "      <td>0.0</td>\n",
       "      <td>15900.0</td>\n",
       "      <td>0</td>\n",
       "    </tr>\n",
       "    <tr>\n",
       "      <th>164</th>\n",
       "      <td>95779116</td>\n",
       "      <td>2015-10-01</td>\n",
       "      <td>2015-10-17</td>\n",
       "      <td>722.03</td>\n",
       "      <td>0.0</td>\n",
       "      <td>15900.0</td>\n",
       "      <td>0</td>\n",
       "    </tr>\n",
       "    <tr>\n",
       "      <th>166</th>\n",
       "      <td>95779116</td>\n",
       "      <td>2015-11-01</td>\n",
       "      <td>2015-11-14</td>\n",
       "      <td>201.96</td>\n",
       "      <td>0.0</td>\n",
       "      <td>15900.0</td>\n",
       "      <td>0</td>\n",
       "    </tr>\n",
       "    <tr>\n",
       "      <th>156</th>\n",
       "      <td>95779116</td>\n",
       "      <td>2015-12-01</td>\n",
       "      <td>2015-12-13</td>\n",
       "      <td>80.80</td>\n",
       "      <td>0.0</td>\n",
       "      <td>15900.0</td>\n",
       "      <td>0</td>\n",
       "    </tr>\n",
       "  </tbody>\n",
       "</table>\n",
       "</div>"
      ],
      "text/plain": [
       "      ID_CPTE PERIODID_MY StatementDate  CurrentTotalBalance  CashBalance  \\\n",
       "162  95779116  2014-11-01    2014-11-18              1463.70          0.0   \n",
       "165  95779116  2014-12-01    2014-12-17               407.04          0.0   \n",
       "160  95779116  2015-01-01    2015-01-19              1036.18          0.0   \n",
       "161  95779116  2015-02-01    2015-02-17               492.20          0.0   \n",
       "159  95779116  2015-03-01    2015-03-16               248.88          0.0   \n",
       "154  95779116  2015-04-01    2015-04-13               544.84          0.0   \n",
       "155  95779116  2015-05-01    2015-05-14               449.28          0.0   \n",
       "167  95779116  2015-06-01    2015-06-13               556.50          0.0   \n",
       "157  95779116  2015-07-01    2015-07-17               759.52          0.0   \n",
       "163  95779116  2015-08-01    2015-08-17               386.58          0.0   \n",
       "158  95779116  2015-09-01    2015-09-17               326.48          0.0   \n",
       "164  95779116  2015-10-01    2015-10-17               722.03          0.0   \n",
       "166  95779116  2015-11-01    2015-11-14               201.96          0.0   \n",
       "156  95779116  2015-12-01    2015-12-13                80.80          0.0   \n",
       "\n",
       "     CreditLimit  DelqCycle  \n",
       "162      11800.0          0  \n",
       "165      11800.0          0  \n",
       "160      11800.0          0  \n",
       "161      11800.0          0  \n",
       "159      11800.0          0  \n",
       "154      15900.0          0  \n",
       "155      15900.0          0  \n",
       "167      15900.0          0  \n",
       "157      15900.0          0  \n",
       "163      15900.0          0  \n",
       "158      15900.0          0  \n",
       "164      15900.0          0  \n",
       "166      15900.0          0  \n",
       "156      15900.0          0  "
      ]
     },
     "execution_count": 52,
     "metadata": {},
     "output_type": "execute_result"
    }
   ],
   "source": [
    "facturation[facturation['ID_CPTE'] == next_non_default_client].sort_values(by='PERIODID_MY')"
   ]
  },
  {
   "cell_type": "code",
   "execution_count": 37,
   "metadata": {},
   "outputs": [],
   "source": [
    "#payments[payments['ID_CPTE'] == next_non_default_client].sort_values(by='TRANSACTION_DTTM')"
   ]
  },
  {
   "cell_type": "code",
   "execution_count": 36,
   "metadata": {},
   "outputs": [],
   "source": [
    "#transactions[transactions['ID_CPTE'] == next_non_default_client].sort_values(by='TRANSACTION_DTTM')"
   ]
  },
  {
   "cell_type": "code",
   "execution_count": null,
   "metadata": {},
   "outputs": [],
   "source": []
  },
  {
   "cell_type": "code",
   "execution_count": null,
   "metadata": {},
   "outputs": [],
   "source": []
  }
 ],
 "metadata": {
  "kernelspec": {
   "display_name": "ml",
   "language": "python",
   "name": "ml"
  },
  "language_info": {
   "codemirror_mode": {
    "name": "ipython",
    "version": 3
   },
   "file_extension": ".py",
   "mimetype": "text/x-python",
   "name": "python",
   "nbconvert_exporter": "python",
   "pygments_lexer": "ipython3",
   "version": "3.6.4"
  }
 },
 "nbformat": 4,
 "nbformat_minor": 2
}
